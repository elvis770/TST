{
 "cells": [
  {
   "cell_type": "code",
   "execution_count": 7,
   "metadata": {},
   "outputs": [
    {
     "name": "stdout",
     "output_type": "stream",
     "text": [
      "We're sorry, but the discount code you entered is not valid you can double-check the code and try again.\n"
     ]
    }
   ],
   "source": [
    "import json\n",
    "\n",
    "# Error defined at the Network reponse \n",
    "error_response = '''\n",
    "{\n",
    "    \"resultCode\": 400,\n",
    "    \"resultMessage\": \"Error in Commerce Tools. Response: {\\\\\\\"statusCode\\\\\\\":400,\\\\\\\"message\\\\\\\":\\\\\\\"The discount code 'test' was not found.\\\\\\\",\\\\\\\"errors\\\\\\\":[{\\\\\\\"code\\\\\\\":\\\\\\\"DiscountCodeNonApplicable\\\\\\\",\\\\\\\"message\\\\\\\":\\\\\\\"The discount code 'test' was not found.\\\\\\\",\\\\\\\"action\\\\\\\":{\\\\\\\"action\\\\\\\":\\\\\\\"addDiscountCode\\\\\\\",\\\\\\\"code\\\\\\\":\\\\\\\"test\\\\\\\"},\\\\\\\"actionIndex\\\\\\\":1,\\\\\\\"reason\\\\\\\":\\\\\\\"DoesNotExist\\\\\\\",\\\\\\\"discountCode\\\\\\\":\\\\\\\"test\\\\\\\"}]}\"\n",
    "}\n",
    "'''\n",
    "\n",
    "# Load the error response as JSON\n",
    "error_data = json.loads(error_response)\n",
    "error_message = error_data[\"resultMessage\"]\n",
    "\n",
    "# Function to handle error and provide assistance\n",
    "def handle_error(error_message):\n",
    "    if \"DiscountCodeNonApplicable\" in error_message:\n",
    "        return \"We're sorry, but the discount code you entered is not valid you can double-check the code and try again.\"\n",
    "    else:\n",
    "        return \"An unexpected error occurred. Please try again later or contact customer support for assistance.\"\n",
    "\n",
    "# Handle error and provide assistance\n",
    "assistance_message = handle_error(error_message)\n",
    "print(assistance_message)\n"
   ]
  }
 ],
 "metadata": {
  "kernelspec": {
   "display_name": "Python 3",
   "language": "python",
   "name": "python3"
  },
  "language_info": {
   "codemirror_mode": {
    "name": "ipython",
    "version": 3
   },
   "file_extension": ".py",
   "mimetype": "text/x-python",
   "name": "python",
   "nbconvert_exporter": "python",
   "pygments_lexer": "ipython3",
   "version": "3.11.5"
  },
  "orig_nbformat": 4
 },
 "nbformat": 4,
 "nbformat_minor": 2
}
